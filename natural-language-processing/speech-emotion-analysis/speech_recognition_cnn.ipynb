{
  "nbformat": 4,
  "nbformat_minor": 0,
  "metadata": {
    "kernelspec": {
      "display_name": "Python 3",
      "language": "python",
      "name": "python3"
    },
    "language_info": {
      "codemirror_mode": {
        "name": "ipython",
        "version": 3
      },
      "file_extension": ".py",
      "mimetype": "text/x-python",
      "name": "python",
      "nbconvert_exporter": "python",
      "pygments_lexer": "ipython3",
      "version": "3.8.3"
    },
    "colab": {
      "name": "speech_recognition_cnn",
      "provenance": [],
      "collapsed_sections": []
    },
    "accelerator": "GPU"
  },
  "cells": [
    {
      "cell_type": "markdown",
      "metadata": {
        "id": "wOGoFIINuGS2"
      },
      "source": [
        "# **SPEECH RECOGNITION**"
      ]
    },
    {
      "cell_type": "markdown",
      "metadata": {
        "id": "-ByoXlypur10"
      },
      "source": [
        "## Preprocess data"
      ]
    },
    {
      "cell_type": "code",
      "metadata": {
        "id": "CcVPq2oNt3Gm"
      },
      "source": [
        "# import libraries\n",
        "import os\n",
        "import librosa\n",
        "import IPython.display as ipd\n",
        "import matplotlib.pyplot as plt\n",
        "import numpy as np\n",
        "from scipy.io import wavfile"
      ],
      "execution_count": null,
      "outputs": []
    },
    {
      "cell_type": "code",
      "metadata": {
        "id": "2HFQqZPyt3HB",
        "outputId": "24715bf8-0e92-4a8d-b06d-8f1d851a0870",
        "colab": {
          "base_uri": "https://localhost:8080/"
        }
      },
      "source": [
        "# obtain training data's sample rate\n",
        "trainDir = '/content/train/audio/'\n",
        "samples, sample_rate = librosa.load(trainDir+'bed/00176480_nohash_0.wav', sr = 16000)\n",
        "ipd.Audio(samples, rate = sample_rate)\n",
        "print(sample_rate)"
      ],
      "execution_count": null,
      "outputs": [
        {
          "output_type": "stream",
          "text": [
            "16000\n"
          ],
          "name": "stdout"
        }
      ]
    },
    {
      "cell_type": "code",
      "metadata": {
        "id": "lpjUeGWTt3He",
        "outputId": "6baba7c1-ea89-49df-9a36-009ed75bae7e",
        "colab": {
          "base_uri": "https://localhost:8080/",
          "height": 61
        }
      },
      "source": [
        "# resample the sample rate\n",
        "samples = librosa.resample(samples, sample_rate, 8000)\n",
        "ipd.Audio(samples, rate = 8000)"
      ],
      "execution_count": null,
      "outputs": [
        {
          "output_type": "execute_result",
          "data": {
            "text/html": [
              "\n",
              "                <audio controls=\"controls\" >\n",
              "                    <source src=\"data:audio/wav;base64,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\" type=\"audio/wav\" />\n",
              "                    Your browser does not support the audio element.\n",
              "                </audio>\n",
              "              "
            ],
            "text/plain": [
              "<IPython.lib.display.Audio object>"
            ]
          },
          "metadata": {
            "tags": []
          },
          "execution_count": 15
        }
      ]
    },
    {
      "cell_type": "code",
      "metadata": {
        "id": "9rGZXQxnt3IE"
      },
      "source": [
        "# train folder directory\n",
        "labels = os.listdir(trainDir)"
      ],
      "execution_count": null,
      "outputs": []
    },
    {
      "cell_type": "code",
      "metadata": {
        "id": "VKz6pjVTt3I8"
      },
      "source": [
        "# loop through .wav files\n",
        "no_of_recordings=[]\n",
        "for label in labels:\n",
        "    waves = [f for f in os.listdir(trainDir + '/'+ label) if f.endswith('.wav')]\n",
        "    no_of_recordings.append(len(waves))"
      ],
      "execution_count": null,
      "outputs": []
    },
    {
      "cell_type": "code",
      "metadata": {
        "id": "ZJDLIuWxt3KO"
      },
      "source": [
        "labels = [\"bed\", \"bird\", \"cat\", \"dog\", \"down\", \"eight\", \"five\", \"four\"]"
      ],
      "execution_count": null,
      "outputs": []
    },
    {
      "cell_type": "code",
      "metadata": {
        "id": "Fm7BpHykt3Kv",
        "outputId": "19aae87c-5322-4970-93b0-825c5d295022",
        "colab": {
          "base_uri": "https://localhost:8080/",
          "height": 354
        }
      },
      "source": [
        "# loop through duration of recordings\n",
        "duration_of_recordings=[]\n",
        "for label in labels:\n",
        "    waves = [f for f in os.listdir(trainDir + '/'+ label) if f.endswith('.wav')]\n",
        "    for wav in waves:\n",
        "        sample_rate, samples = wavfile.read(trainDir + '/' + label + '/' + wav)\n",
        "        duration_of_recordings.append(float(len(samples)/sample_rate))\n",
        "    \n",
        " # plot number of recordings   \n",
        "plt.hist(np.array(duration_of_recordings))"
      ],
      "execution_count": null,
      "outputs": [
        {
          "output_type": "execute_result",
          "data": {
            "text/plain": [
              "(array([2.0000e+00, 6.0000e+00, 4.7000e+01, 3.0000e+01, 1.0600e+02,\n",
              "        1.6300e+02, 2.5500e+02, 2.1900e+02, 3.7400e+02, 1.5161e+04]),\n",
              " array([0.384 , 0.4456, 0.5072, 0.5688, 0.6304, 0.692 , 0.7536, 0.8152,\n",
              "        0.8768, 0.9384, 1.    ]),\n",
              " <a list of 10 Patch objects>)"
            ]
          },
          "metadata": {
            "tags": []
          },
          "execution_count": 19
        },
        {
          "output_type": "display_data",
          "data": {
            "image/png": "[encoded data removed]",
            "text/plain": [
              "<Figure size 432x288 with 1 Axes>"
            ]
          },
          "metadata": {
            "tags": [],
            "needs_background": "light"
          }
        }
      ]
    },
    {
      "cell_type": "code",
      "metadata": {
        "id": "7mR9y602t3LF",
        "outputId": "1b8bcdac-3816-4003-b6f6-aad779e735e2",
        "colab": {
          "base_uri": "https://localhost:8080/"
        }
      },
      "source": [
        "# read dataset and resample each audio file\n",
        "trainDir = '/content/train/audio/'\n",
        "all_wave = []\n",
        "all_label = []\n",
        "\n",
        "for label in labels:\n",
        "    print(label)\n",
        "    waves = [f for f in os.listdir(trainDir + '/'+ label) if f.endswith('.wav')]\n",
        "    for wav in waves:\n",
        "        samples, sample_rate = librosa.load(trainDir + '/' + label + '/' + wav, sr = 16000)\n",
        "        samples = librosa.resample(samples, sample_rate, 8000)\n",
        "        if(len(samples)== 8000) : \n",
        "            all_wave.append(samples)\n",
        "            all_label.append(label)"
      ],
      "execution_count": null,
      "outputs": [
        {
          "output_type": "stream",
          "text": [
            "bed\n",
            "bird\n",
            "cat\n",
            "dog\n",
            "down\n",
            "eight\n",
            "five\n",
            "four\n"
          ],
          "name": "stdout"
        }
      ]
    },
    {
      "cell_type": "code",
      "metadata": {
        "id": "e7ZV9U_Mt3LY",
        "outputId": "6ec07161-709a-461f-c9b8-f88c0b9cc3fd",
        "colab": {
          "base_uri": "https://localhost:8080/"
        }
      },
      "source": [
        "# encode labels\n",
        "from sklearn.preprocessing import LabelEncoder\n",
        "le = LabelEncoder()\n",
        "y = le.fit_transform(all_label) \n",
        "classes = list(le.classes_)\n",
        "print(classes)"
      ],
      "execution_count": null,
      "outputs": [
        {
          "output_type": "stream",
          "text": [
            "['bed', 'bird', 'cat', 'dog', 'down', 'eight', 'five', 'four']\n"
          ],
          "name": "stdout"
        }
      ]
    },
    {
      "cell_type": "code",
      "metadata": {
        "id": "r8aUcRuit3Lu"
      },
      "source": [
        "# take labels as categorical\n",
        "from keras.utils import np_utils\n",
        "y = np_utils.to_categorical(y, num_classes=len(labels))"
      ],
      "execution_count": null,
      "outputs": []
    },
    {
      "cell_type": "code",
      "metadata": {
        "id": "p9VlDK24t3MC"
      },
      "source": [
        "# reshape to three-dimensional array\n",
        "all_wave = np.array(all_wave).reshape(-1, 8000, 1)"
      ],
      "execution_count": null,
      "outputs": []
    },
    {
      "cell_type": "code",
      "metadata": {
        "id": "IQMujvjot3MO"
      },
      "source": [
        "# split dataset\n",
        "from sklearn.model_selection import train_test_split\n",
        "x_tr, x_val, y_tr, y_val = train_test_split(np.array(all_wave),\n",
        "                                            np.array(y),\n",
        "                                            stratify = y,\n",
        "                                            test_size = 0.2,\n",
        "                                            random_state=777,\n",
        "                                            shuffle=True)"
      ],
      "execution_count": null,
      "outputs": []
    },
    {
      "cell_type": "markdown",
      "metadata": {
        "id": "eIG-zdqUxJP_"
      },
      "source": [
        "## Train the model"
      ]
    },
    {
      "cell_type": "code",
      "metadata": {
        "id": "X0JgwLfYt3Ma",
        "outputId": "19d07e86-266e-415e-8fc5-680574dc25ca",
        "colab": {
          "base_uri": "https://localhost:8080/"
        }
      },
      "source": [
        "# build the model\n",
        "from keras.layers import Dense, Dropout, Flatten, Conv1D, Input, MaxPooling1D\n",
        "from keras.models import Model\n",
        "from keras.callbacks import EarlyStopping, ModelCheckpoint\n",
        "from keras import backend as K\n",
        "K.clear_session()\n",
        "\n",
        "inputs = Input(shape=(8000,1)) # one-dimensional\n",
        "\n",
        "#First Conv1D layer\n",
        "conv = Conv1D(8,13, padding='valid', activation='relu', strides=1)(inputs)\n",
        "conv = MaxPooling1D(3)(conv)\n",
        "conv = Dropout(0.3)(conv)\n",
        "\n",
        "#Second Conv1D layer\n",
        "conv = Conv1D(16, 11, padding='valid', activation='relu', strides=1)(conv)\n",
        "conv = MaxPooling1D(3)(conv)\n",
        "conv = Dropout(0.3)(conv)\n",
        "\n",
        "#Third Conv1D layer\n",
        "conv = Conv1D(32, 9, padding='valid', activation='relu', strides=1)(conv)\n",
        "conv = MaxPooling1D(3)(conv)\n",
        "conv = Dropout(0.3)(conv)\n",
        "\n",
        "#Fourth Conv1D layer\n",
        "conv = Conv1D(64, 7, padding='valid', activation='relu', strides=1)(conv)\n",
        "conv = MaxPooling1D(3)(conv)\n",
        "conv = Dropout(0.3)(conv)\n",
        "\n",
        "#Flatten layer\n",
        "conv = Flatten()(conv)\n",
        "\n",
        "#Dense Layer 1\n",
        "conv = Dense(256, activation='relu')(conv)\n",
        "conv = Dropout(0.3)(conv)\n",
        "\n",
        "#Dense Layer 2\n",
        "conv = Dense(128, activation='relu')(conv)\n",
        "conv = Dropout(0.3)(conv)\n",
        "\n",
        "outputs = Dense(len(labels), activation='softmax')(conv)\n",
        "\n",
        "model = Model(inputs, outputs)\n",
        "model.summary()"
      ],
      "execution_count": null,
      "outputs": [
        {
          "output_type": "stream",
          "text": [
            "Model: \"functional_1\"\n",
            "_________________________________________________________________\n",
            "Layer (type)                 Output Shape              Param #   \n",
            "=================================================================\n",
            "input_1 (InputLayer)         [(None, 8000, 1)]         0         \n",
            "_________________________________________________________________\n",
            "conv1d (Conv1D)              (None, 7988, 8)           112       \n",
            "_________________________________________________________________\n",
            "max_pooling1d (MaxPooling1D) (None, 2662, 8)           0         \n",
            "_________________________________________________________________\n",
            "dropout (Dropout)            (None, 2662, 8)           0         \n",
            "_________________________________________________________________\n",
            "conv1d_1 (Conv1D)            (None, 2652, 16)          1424      \n",
            "_________________________________________________________________\n",
            "max_pooling1d_1 (MaxPooling1 (None, 884, 16)           0         \n",
            "_________________________________________________________________\n",
            "dropout_1 (Dropout)          (None, 884, 16)           0         \n",
            "_________________________________________________________________\n",
            "conv1d_2 (Conv1D)            (None, 876, 32)           4640      \n",
            "_________________________________________________________________\n",
            "max_pooling1d_2 (MaxPooling1 (None, 292, 32)           0         \n",
            "_________________________________________________________________\n",
            "dropout_2 (Dropout)          (None, 292, 32)           0         \n",
            "_________________________________________________________________\n",
            "conv1d_3 (Conv1D)            (None, 286, 64)           14400     \n",
            "_________________________________________________________________\n",
            "max_pooling1d_3 (MaxPooling1 (None, 95, 64)            0         \n",
            "_________________________________________________________________\n",
            "dropout_3 (Dropout)          (None, 95, 64)            0         \n",
            "_________________________________________________________________\n",
            "flatten (Flatten)            (None, 6080)              0         \n",
            "_________________________________________________________________\n",
            "dense (Dense)                (None, 256)               1556736   \n",
            "_________________________________________________________________\n",
            "dropout_4 (Dropout)          (None, 256)               0         \n",
            "_________________________________________________________________\n",
            "dense_1 (Dense)              (None, 128)               32896     \n",
            "_________________________________________________________________\n",
            "dropout_5 (Dropout)          (None, 128)               0         \n",
            "_________________________________________________________________\n",
            "dense_2 (Dense)              (None, 8)                 1032      \n",
            "=================================================================\n",
            "Total params: 1,611,240\n",
            "Trainable params: 1,611,240\n",
            "Non-trainable params: 0\n",
            "_________________________________________________________________\n"
          ],
          "name": "stdout"
        }
      ]
    },
    {
      "cell_type": "code",
      "metadata": {
        "id": "rRzv0nA2t3Mr"
      },
      "source": [
        "# compile the model\n",
        "model.compile(loss = 'categorical_crossentropy', optimizer = 'adam', metrics = ['accuracy'])"
      ],
      "execution_count": null,
      "outputs": []
    },
    {
      "cell_type": "code",
      "metadata": {
        "id": "VmBpJIl1t3M5",
        "outputId": "563f3490-e79d-403f-dcca-b6124cb52085",
        "colab": {
          "base_uri": "https://localhost:8080/"
        }
      },
      "source": [
        "# early stopping if model is not improving\n",
        "es = EarlyStopping(monitor = 'val_loss', mode = 'min', verbose = 1, patience = 10, min_delta = 0.0001) \n",
        "mc = ModelCheckpoint('voiceRecModel.hdf5', monitor = 'val_acc', verbose = 1, save_best_only = True, mode = 'max')\n",
        "print(x_tr.shape, x_val.shape, y_tr.shape, y_val.shape)"
      ],
      "execution_count": null,
      "outputs": [
        {
          "output_type": "stream",
          "text": [
            "(11719, 8000, 1) (2930, 8000, 1) (11719, 8) (2930, 8)\n"
          ],
          "name": "stdout"
        }
      ]
    },
    {
      "cell_type": "code",
      "metadata": {
        "id": "CIgXHlxKt3NC",
        "outputId": "60952e48-dc4a-4133-c18f-c5101f1b6638",
        "colab": {
          "base_uri": "https://localhost:8080/"
        }
      },
      "source": [
        "# train the model\n",
        "history = model.fit(x_tr, y_tr ,epochs = 100, callbacks=[es, mc], batch_size = 32, validation_data=(x_val, y_val))"
      ],
      "execution_count": null,
      "outputs": [
        {
          "output_type": "stream",
          "text": [
            "Epoch 1/100\n",
            "367/367 [==============================] - ETA: 0s - loss: 1.8122 - accuracy: 0.2978WARNING:tensorflow:Can save best model only with val_acc available, skipping.\n",
            "367/367 [==============================] - 5s 12ms/step - loss: 1.8122 - accuracy: 0.2978 - val_loss: 1.5885 - val_accuracy: 0.4133\n",
            "Epoch 2/100\n",
            "365/367 [============================>.] - ETA: 0s - loss: 1.2605 - accuracy: 0.5549WARNING:tensorflow:Can save best model only with val_acc available, skipping.\n",
            "367/367 [==============================] - 4s 12ms/step - loss: 1.2610 - accuracy: 0.5547 - val_loss: 0.9609 - val_accuracy: 0.6846\n",
            "Epoch 3/100\n",
            "366/367 [============================>.] - ETA: 0s - loss: 0.9699 - accuracy: 0.6568WARNING:tensorflow:Can save best model only with val_acc available, skipping.\n",
            "367/367 [==============================] - 4s 11ms/step - loss: 0.9699 - accuracy: 0.6569 - val_loss: 0.9809 - val_accuracy: 0.6983\n",
            "Epoch 4/100\n",
            "362/367 [============================>.] - ETA: 0s - loss: 0.8396 - accuracy: 0.7077WARNING:tensorflow:Can save best model only with val_acc available, skipping.\n",
            "367/367 [==============================] - 4s 11ms/step - loss: 0.8416 - accuracy: 0.7071 - val_loss: 0.8031 - val_accuracy: 0.7249\n",
            "Epoch 5/100\n",
            "364/367 [============================>.] - ETA: 0s - loss: 0.7520 - accuracy: 0.7393WARNING:tensorflow:Can save best model only with val_acc available, skipping.\n",
            "367/367 [==============================] - 4s 12ms/step - loss: 0.7517 - accuracy: 0.7393 - val_loss: 1.0761 - val_accuracy: 0.6174\n",
            "Epoch 6/100\n",
            "363/367 [============================>.] - ETA: 0s - loss: 0.6789 - accuracy: 0.7664WARNING:tensorflow:Can save best model only with val_acc available, skipping.\n",
            "367/367 [==============================] - 4s 11ms/step - loss: 0.6785 - accuracy: 0.7670 - val_loss: 0.7558 - val_accuracy: 0.7478\n",
            "Epoch 7/100\n",
            "362/367 [============================>.] - ETA: 0s - loss: 0.6213 - accuracy: 0.7904WARNING:tensorflow:Can save best model only with val_acc available, skipping.\n",
            "367/367 [==============================] - 4s 12ms/step - loss: 0.6220 - accuracy: 0.7903 - val_loss: 0.6027 - val_accuracy: 0.8020\n",
            "Epoch 8/100\n",
            "364/367 [============================>.] - ETA: 0s - loss: 0.5435 - accuracy: 0.8156WARNING:tensorflow:Can save best model only with val_acc available, skipping.\n",
            "367/367 [==============================] - 4s 11ms/step - loss: 0.5437 - accuracy: 0.8154 - val_loss: 0.4984 - val_accuracy: 0.8352\n",
            "Epoch 9/100\n",
            "362/367 [============================>.] - ETA: 0s - loss: 0.5099 - accuracy: 0.8245WARNING:tensorflow:Can save best model only with val_acc available, skipping.\n",
            "367/367 [==============================] - 4s 12ms/step - loss: 0.5073 - accuracy: 0.8252 - val_loss: 0.6868 - val_accuracy: 0.7785\n",
            "Epoch 10/100\n",
            "365/367 [============================>.] - ETA: 0s - loss: 0.4692 - accuracy: 0.8427WARNING:tensorflow:Can save best model only with val_acc available, skipping.\n",
            "367/367 [==============================] - 4s 12ms/step - loss: 0.4685 - accuracy: 0.8431 - val_loss: 0.5032 - val_accuracy: 0.8399\n",
            "Epoch 11/100\n",
            "365/367 [============================>.] - ETA: 0s - loss: 0.4267 - accuracy: 0.8545WARNING:tensorflow:Can save best model only with val_acc available, skipping.\n",
            "367/367 [==============================] - 4s 12ms/step - loss: 0.4261 - accuracy: 0.8548 - val_loss: 0.4600 - val_accuracy: 0.8532\n",
            "Epoch 12/100\n",
            "364/367 [============================>.] - ETA: 0s - loss: 0.4253 - accuracy: 0.8586WARNING:tensorflow:Can save best model only with val_acc available, skipping.\n",
            "367/367 [==============================] - 4s 12ms/step - loss: 0.4257 - accuracy: 0.8584 - val_loss: 0.5015 - val_accuracy: 0.8396\n",
            "Epoch 13/100\n",
            "366/367 [============================>.] - ETA: 0s - loss: 0.3784 - accuracy: 0.8746WARNING:tensorflow:Can save best model only with val_acc available, skipping.\n",
            "367/367 [==============================] - 4s 12ms/step - loss: 0.3784 - accuracy: 0.8746 - val_loss: 0.3928 - val_accuracy: 0.8778\n",
            "Epoch 14/100\n",
            "364/367 [============================>.] - ETA: 0s - loss: 0.3781 - accuracy: 0.8746WARNING:tensorflow:Can save best model only with val_acc available, skipping.\n",
            "367/367 [==============================] - 4s 12ms/step - loss: 0.3772 - accuracy: 0.8748 - val_loss: 0.4576 - val_accuracy: 0.8611\n",
            "Epoch 15/100\n",
            "363/367 [============================>.] - ETA: 0s - loss: 0.3331 - accuracy: 0.8878WARNING:tensorflow:Can save best model only with val_acc available, skipping.\n",
            "367/367 [==============================] - 4s 12ms/step - loss: 0.3325 - accuracy: 0.8881 - val_loss: 0.4250 - val_accuracy: 0.8713\n",
            "Epoch 16/100\n",
            "362/367 [============================>.] - ETA: 0s - loss: 0.3322 - accuracy: 0.8867WARNING:tensorflow:Can save best model only with val_acc available, skipping.\n",
            "367/367 [==============================] - 4s 12ms/step - loss: 0.3322 - accuracy: 0.8865 - val_loss: 0.5211 - val_accuracy: 0.8311\n",
            "Epoch 17/100\n",
            "363/367 [============================>.] - ETA: 0s - loss: 0.3102 - accuracy: 0.8957WARNING:tensorflow:Can save best model only with val_acc available, skipping.\n",
            "367/367 [==============================] - 4s 12ms/step - loss: 0.3094 - accuracy: 0.8958 - val_loss: 0.4452 - val_accuracy: 0.8614\n",
            "Epoch 18/100\n",
            "365/367 [============================>.] - ETA: 0s - loss: 0.3028 - accuracy: 0.8994WARNING:tensorflow:Can save best model only with val_acc available, skipping.\n",
            "367/367 [==============================] - 4s 12ms/step - loss: 0.3024 - accuracy: 0.8996 - val_loss: 0.4652 - val_accuracy: 0.8509\n",
            "Epoch 19/100\n",
            "363/367 [============================>.] - ETA: 0s - loss: 0.2766 - accuracy: 0.9047WARNING:tensorflow:Can save best model only with val_acc available, skipping.\n",
            "367/367 [==============================] - 4s 12ms/step - loss: 0.2763 - accuracy: 0.9049 - val_loss: 0.3970 - val_accuracy: 0.8792\n",
            "Epoch 20/100\n",
            "363/367 [============================>.] - ETA: 0s - loss: 0.2874 - accuracy: 0.9025WARNING:tensorflow:Can save best model only with val_acc available, skipping.\n",
            "367/367 [==============================] - 4s 12ms/step - loss: 0.2885 - accuracy: 0.9022 - val_loss: 0.3490 - val_accuracy: 0.8901\n",
            "Epoch 21/100\n",
            "365/367 [============================>.] - ETA: 0s - loss: 0.2724 - accuracy: 0.9074WARNING:tensorflow:Can save best model only with val_acc available, skipping.\n",
            "367/367 [==============================] - 4s 12ms/step - loss: 0.2724 - accuracy: 0.9072 - val_loss: 0.4758 - val_accuracy: 0.8580\n",
            "Epoch 22/100\n",
            "363/367 [============================>.] - ETA: 0s - loss: 0.2693 - accuracy: 0.9089WARNING:tensorflow:Can save best model only with val_acc available, skipping.\n",
            "367/367 [==============================] - 4s 12ms/step - loss: 0.2693 - accuracy: 0.9091 - val_loss: 0.4659 - val_accuracy: 0.8543\n",
            "Epoch 23/100\n",
            "363/367 [============================>.] - ETA: 0s - loss: 0.2547 - accuracy: 0.9149WARNING:tensorflow:Can save best model only with val_acc available, skipping.\n",
            "367/367 [==============================] - 4s 12ms/step - loss: 0.2552 - accuracy: 0.9146 - val_loss: 0.4654 - val_accuracy: 0.8611\n",
            "Epoch 24/100\n",
            "362/367 [============================>.] - ETA: 0s - loss: 0.2419 - accuracy: 0.9208WARNING:tensorflow:Can save best model only with val_acc available, skipping.\n",
            "367/367 [==============================] - 4s 12ms/step - loss: 0.2421 - accuracy: 0.9207 - val_loss: 0.4309 - val_accuracy: 0.8741\n",
            "Epoch 25/100\n",
            "366/367 [============================>.] - ETA: 0s - loss: 0.2404 - accuracy: 0.9175WARNING:tensorflow:Can save best model only with val_acc available, skipping.\n",
            "367/367 [==============================] - 4s 12ms/step - loss: 0.2408 - accuracy: 0.9173 - val_loss: 0.3383 - val_accuracy: 0.8887\n",
            "Epoch 26/100\n",
            "366/367 [============================>.] - ETA: 0s - loss: 0.2350 - accuracy: 0.9197WARNING:tensorflow:Can save best model only with val_acc available, skipping.\n",
            "367/367 [==============================] - 4s 11ms/step - loss: 0.2349 - accuracy: 0.9197 - val_loss: 0.3215 - val_accuracy: 0.9010\n",
            "Epoch 27/100\n",
            "362/367 [============================>.] - ETA: 0s - loss: 0.2326 - accuracy: 0.9209WARNING:tensorflow:Can save best model only with val_acc available, skipping.\n",
            "367/367 [==============================] - 4s 11ms/step - loss: 0.2335 - accuracy: 0.9209 - val_loss: 0.3609 - val_accuracy: 0.8915\n",
            "Epoch 28/100\n",
            "362/367 [============================>.] - ETA: 0s - loss: 0.2073 - accuracy: 0.9322WARNING:tensorflow:Can save best model only with val_acc available, skipping.\n",
            "367/367 [==============================] - 4s 12ms/step - loss: 0.2072 - accuracy: 0.9323 - val_loss: 0.3244 - val_accuracy: 0.8952\n",
            "Epoch 29/100\n",
            "365/367 [============================>.] - ETA: 0s - loss: 0.2087 - accuracy: 0.9290WARNING:tensorflow:Can save best model only with val_acc available, skipping.\n",
            "367/367 [==============================] - 4s 12ms/step - loss: 0.2087 - accuracy: 0.9289 - val_loss: 0.3096 - val_accuracy: 0.8997\n",
            "Epoch 30/100\n",
            "362/367 [============================>.] - ETA: 0s - loss: 0.2076 - accuracy: 0.9304WARNING:tensorflow:Can save best model only with val_acc available, skipping.\n",
            "367/367 [==============================] - 4s 12ms/step - loss: 0.2100 - accuracy: 0.9297 - val_loss: 0.4394 - val_accuracy: 0.8737\n",
            "Epoch 31/100\n",
            "364/367 [============================>.] - ETA: 0s - loss: 0.1879 - accuracy: 0.9363WARNING:tensorflow:Can save best model only with val_acc available, skipping.\n",
            "367/367 [==============================] - 4s 12ms/step - loss: 0.1878 - accuracy: 0.9364 - val_loss: 0.4498 - val_accuracy: 0.8747\n",
            "Epoch 32/100\n",
            "362/367 [============================>.] - ETA: 0s - loss: 0.2082 - accuracy: 0.9288WARNING:tensorflow:Can save best model only with val_acc available, skipping.\n",
            "367/367 [==============================] - 4s 12ms/step - loss: 0.2087 - accuracy: 0.9290 - val_loss: 0.4104 - val_accuracy: 0.8836\n",
            "Epoch 33/100\n",
            "366/367 [============================>.] - ETA: 0s - loss: 0.1876 - accuracy: 0.9378WARNING:tensorflow:Can save best model only with val_acc available, skipping.\n",
            "367/367 [==============================] - 4s 12ms/step - loss: 0.1875 - accuracy: 0.9378 - val_loss: 0.3749 - val_accuracy: 0.8915\n",
            "Epoch 34/100\n",
            "362/367 [============================>.] - ETA: 0s - loss: 0.1880 - accuracy: 0.9366WARNING:tensorflow:Can save best model only with val_acc available, skipping.\n",
            "367/367 [==============================] - 4s 12ms/step - loss: 0.1887 - accuracy: 0.9364 - val_loss: 0.4088 - val_accuracy: 0.8805\n",
            "Epoch 35/100\n",
            "362/367 [============================>.] - ETA: 0s - loss: 0.1901 - accuracy: 0.9384WARNING:tensorflow:Can save best model only with val_acc available, skipping.\n",
            "367/367 [==============================] - 4s 12ms/step - loss: 0.1893 - accuracy: 0.9387 - val_loss: 0.3869 - val_accuracy: 0.8884\n",
            "Epoch 36/100\n",
            "363/367 [============================>.] - ETA: 0s - loss: 0.1768 - accuracy: 0.9406WARNING:tensorflow:Can save best model only with val_acc available, skipping.\n",
            "367/367 [==============================] - 4s 12ms/step - loss: 0.1759 - accuracy: 0.9410 - val_loss: 0.3930 - val_accuracy: 0.8932\n",
            "Epoch 37/100\n",
            "363/367 [============================>.] - ETA: 0s - loss: 0.1803 - accuracy: 0.9394WARNING:tensorflow:Can save best model only with val_acc available, skipping.\n",
            "367/367 [==============================] - 4s 12ms/step - loss: 0.1802 - accuracy: 0.9393 - val_loss: 0.3334 - val_accuracy: 0.9014\n",
            "Epoch 38/100\n",
            "362/367 [============================>.] - ETA: 0s - loss: 0.1598 - accuracy: 0.9479WARNING:tensorflow:Can save best model only with val_acc available, skipping.\n",
            "367/367 [==============================] - 4s 12ms/step - loss: 0.1612 - accuracy: 0.9474 - val_loss: 0.4027 - val_accuracy: 0.8874\n",
            "Epoch 39/100\n",
            "365/367 [============================>.] - ETA: 0s - loss: 0.1908 - accuracy: 0.9360WARNING:tensorflow:Can save best model only with val_acc available, skipping.\n",
            "367/367 [==============================] - 4s 12ms/step - loss: 0.1907 - accuracy: 0.9361 - val_loss: 0.3487 - val_accuracy: 0.9031\n",
            "Epoch 00039: early stopping\n"
          ],
          "name": "stdout"
        }
      ]
    },
    {
      "cell_type": "code",
      "metadata": {
        "id": "bjuyWSTit3NK"
      },
      "source": [
        "# save the model\n",
        "model.save(\"/tmp/voiceRecModel.hdf5\")"
      ],
      "execution_count": null,
      "outputs": []
    },
    {
      "cell_type": "markdown",
      "metadata": {
        "id": "rt7zAahRt3NS"
      },
      "source": [
        "## Test the model"
      ]
    },
    {
      "cell_type": "code",
      "metadata": {
        "id": "4nokB1bNt3NU"
      },
      "source": [
        "# load the model\n",
        "from keras.models import load_model\n",
        "\n",
        "model = load_model(\"/tmp/voiceRecModel.hdf5\")"
      ],
      "execution_count": null,
      "outputs": []
    },
    {
      "cell_type": "code",
      "metadata": {
        "id": "fXaVGwQTt3Nb",
        "outputId": "0dc2629a-1a81-4ab3-dcb1-b2ac0eb6fc7e",
        "colab": {
          "base_uri": "https://localhost:8080/",
          "height": 79
        }
      },
      "source": [
        "# precict the data\n",
        "def predict(audio):\n",
        "    prob = model.predict(audio.reshape(1,8000,1))\n",
        "    index = np.argmax(prob[0])\n",
        "    return classes[index]\n",
        "\n",
        "# choose random data from directory\n",
        "import random\n",
        "index = random.randint(0,len(x_val)-1)\n",
        "samples = x_val[index].ravel()\n",
        "print(\"Audio:\", classes[np.argmax(y_val[index])])\n",
        "ipd.Audio(samples, rate = 8000)"
      ],
      "execution_count": null,
      "outputs": [
        {
          "output_type": "stream",
          "text": [
            "Audio: eight\n"
          ],
          "name": "stdout"
        },
        {
          "output_type": "execute_result",
          "data": {
            "text/html": [
              "\n",
              "                <audio controls=\"controls\" >\n",
              "                    <source src=\"data:audio/wav;base64,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\" type=\"audio/wav\" />\n",
              "                    Your browser does not support the audio element.\n",
              "                </audio>\n",
              "              "
            ],
            "text/plain": [
              "<IPython.lib.display.Audio object>"
            ]
          },
          "metadata": {
            "tags": []
          },
          "execution_count": 41
        }
      ]
    },
    {
      "cell_type": "code",
      "metadata": {
        "id": "o8kEdWCnt3Ni",
        "outputId": "9ee06050-57ba-4eac-f5df-7b9d82c3bb9c",
        "colab": {
          "base_uri": "https://localhost:8080/"
        }
      },
      "source": [
        "# print prediction\n",
        "print(\"Text:\", predict(samples))"
      ],
      "execution_count": null,
      "outputs": [
        {
          "output_type": "stream",
          "text": [
            "Text: eight\n"
          ],
          "name": "stdout"
        }
      ]
    }
  ]
}